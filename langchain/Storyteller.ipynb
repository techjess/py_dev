{
 "cells": [
  {
   "cell_type": "code",
   "execution_count": 1,
   "id": "3e267324-b3d1-4e35-b01b-7dbf82a00b76",
   "metadata": {},
   "outputs": [],
   "source": [
    "from langchain.prompts import PromptTemplate\n",
    "from langchain.llms import OpenAI\n",
    "from langchain.chains import LLMChain"
   ]
  },
  {
   "cell_type": "code",
   "execution_count": 2,
   "id": "60e0b436-e30f-43d6-bbd9-f1c13749d6a6",
   "metadata": {},
   "outputs": [],
   "source": [
    "import os\n",
    "from dotenv import load_dotenv"
   ]
  },
  {
   "cell_type": "code",
   "execution_count": 3,
   "id": "60a82277-355c-4840-9674-17556ac90dc3",
   "metadata": {},
   "outputs": [
    {
     "data": {
      "text/plain": [
       "True"
      ]
     },
     "execution_count": 3,
     "metadata": {},
     "output_type": "execute_result"
    }
   ],
   "source": [
    "load_dotenv()"
   ]
  },
  {
   "cell_type": "code",
   "execution_count": 6,
   "id": "41723ad6-6785-4694-ae7f-bbe35aa0487b",
   "metadata": {},
   "outputs": [],
   "source": [
    "MY_API_KEY = os.getenv('OPENAI_API_KEY')"
   ]
  },
  {
   "cell_type": "code",
   "execution_count": 9,
   "id": "00b0fb0d-6bc0-4553-bbcf-8214dc9f80ac",
   "metadata": {},
   "outputs": [],
   "source": [
    "llm = OpenAI(openai_api_key=MY_API_KEY)"
   ]
  },
  {
   "cell_type": "code",
   "execution_count": 10,
   "id": "a35ff25a-ac82-4b10-9179-164ed5049dd2",
   "metadata": {},
   "outputs": [],
   "source": [
    "prompt = PromptTemplate.from_template(\"Complete a {length} story using the given beginning. There should be {genre} and the story should have an apt ending. Beginning: {text}\")"
   ]
  },
  {
   "cell_type": "code",
   "execution_count": 11,
   "id": "c5515fb2-814f-48cb-9560-58ae129c8709",
   "metadata": {},
   "outputs": [],
   "source": [
    "chain = LLMChain(llm=llm, prompt = prompt)"
   ]
  },
  {
   "cell_type": "code",
   "execution_count": 12,
   "id": "287f3461-cab5-4167-8d04-062892d1f8a2",
   "metadata": {},
   "outputs": [
    {
     "name": "stdout",
     "output_type": "stream",
     "text": [
      "\n",
      "\n",
      "Once there was a coder named Eric. He was a brilliant programmer, known for his exceptional coding skills and his ability to solve even the most complex problems. His reputation preceded him, and he was highly sought after by top companies for his expertise.\n",
      "\n",
      "One day, Eric received an offer from a mysterious start-up company. They promised him a huge salary and complete creative freedom to work on cutting-edge projects. Eric was intrigued and couldn't resist the opportunity. He accepted the offer and joined the company.\n",
      "\n",
      "At first, everything seemed perfect. Eric was given a state-of-the-art office and the latest technology to work with. The projects were challenging, but he enjoyed the thrill of solving them. However, as time passed, Eric noticed some strange things happening around the office. His colleagues would often disappear for days without any explanation, and there were rumors of the office being haunted.\n",
      "\n",
      "One night, while working late, Eric heard strange noises coming from the server room. He dismissed it as his imagination and continued working. But the noises grew louder and more persistent, making it impossible for Eric to concentrate. He decided to investigate and went to the server room.\n",
      "\n",
      "As soon as he entered, he was hit with a foul stench that made him gag. The lights flickered, and Eric\n"
     ]
    }
   ],
   "source": [
    "print(chain.run({'length':'short', 'genre':'horror','text':'Once ther was a coder'}))"
   ]
  },
  {
   "cell_type": "code",
   "execution_count": 13,
   "id": "589e87fc-ad88-45d3-94df-90ea05443397",
   "metadata": {},
   "outputs": [
    {
     "name": "stdout",
     "output_type": "stream",
     "text": [
      "..Once there was a coder named Jack who spent most of his days locked in his apartment, typing away at his computer. He was a brilliant programmer, creating complex codes and algorithms that amazed his clients. But Jack's obsession with coding had taken a toll on his mental health, and he had become a recluse, rarely leaving his apartment except to buy groceries...One night, as Jack was working on a new project, he heard a strange noise coming from his computer. He thought it was just a glitch and ignored it, but as he continued typing, the noise grew louder and more persistent. Suddenly, the screen went black and a message appeared in bold, red letters: \"You have been chosen.\"..Jack's heart raced with fear as he tried to shut down his computer, but it wouldn't respond. The message on the screen changed to a countdown, with the words \"Time is running out.\" Jack frantically tried to unplug the computer, but it was as if it was glued to the desk...Just then, the walls of Jack's apartment started to shake violently, and the lights flickered on and off. He could hear a faint whispering coming from his computer, and the message on the screen changed once again: \"You have been chosen to complete\n"
     ]
    }
   ],
   "source": [
    "print(chain.run({'length':'short', 'genre':'horror','text':'Once ther was a coder'}).replace('\\n','.'))"
   ]
  },
  {
   "cell_type": "code",
   "execution_count": 14,
   "id": "6140c27f-13be-451a-a296-fbd71e84644c",
   "metadata": {},
   "outputs": [
    {
     "name": "stdout",
     "output_type": "stream",
     "text": [
      "['', '', 'Once there was a coder named Alex who loved spending long hours in front of his computer, coding and creating new programs', ' He was a brilliant coder and his skills were in high demand', ' He lived alone in a small apartment and had no family or friends, as he preferred to spend all his time coding', '', '', 'One night, while working on a new project, Alex heard strange noises coming from his computer', ' He ignored it at first, thinking it was just a glitch, but the noises grew louder and more sinister', ' Suddenly, his screen went blank and a message appeared in bold red letters, \"You have been hacked', '\"', '', 'Panic set in as Alex frantically tried to regain control of his computer', ' But the hacker was too skilled and had complete control over his system', ' The hacker, who called himself \"The Master\", demanded that Alex complete a new project for him within 24 hours, or he would release all of Alex\\'s personal information online', '', '', 'With no other options, Alex worked tirelessly throughout the night to complete the project', ' As the deadline approached, he submitted the project to The Master', ' But instead of releasing his personal information, The Master sent him a video of himself laughing maniacally', '', '', \"Alex couldn't believe what was happening\", ' He realized that he had been played and']\n"
     ]
    }
   ],
   "source": [
    "print(chain.run({'length':'short', 'genre':'horror','text':'Once ther was a coder'}).replace('\\n','.').split('.'))"
   ]
  },
  {
   "cell_type": "code",
   "execution_count": 15,
   "id": "f810f481-53b6-4fde-a560-2edf7106162b",
   "metadata": {},
   "outputs": [
    {
     "name": "stdout",
     "output_type": "stream",
     "text": [
      "\n",
      "\n",
      "Once there was a coder named Jack\n",
      " He was known for his exceptional coding skills and his passion for creating horror games\n",
      " Jack had always been fascinated by the supernatural and often drew inspiration from his own nightmares to create his games\n",
      "\n",
      "\n",
      "One day, while browsing through an old bookstore, Jack came across a dusty, leather-bound book with strange symbols etched on the cover\n",
      " He couldn't resist buying it and took it home to add to his collection of horror memorabilia\n",
      "\n",
      "\n",
      "That night, Jack decided to work on his latest game idea\n",
      " He opened the mysterious book for some inspiration, but as he read the first few pages, he started to feel a cold chill run down his spine\n",
      " The words seemed to come alive, and he could almost hear whispers in his ear\n",
      " Ignoring the uneasiness, Jack continued to read, and soon he was completely engrossed in the book\n",
      "\n",
      "\n",
      "As he delved deeper into the book, Jack started to notice strange things happening around him\n",
      " His computer screen flickered, and the room grew colder\n",
      " Suddenly, the lights went out, and Jack was left in complete darkness\n",
      " A low, guttural growl echoed through the room, and Jack's heart raced with fear\n",
      "\n",
      "\n",
      "Just as he was about to close the book, a\n"
     ]
    }
   ],
   "source": [
    "print('\\n'.join(chain.run({'length':'short', 'genre':'horror','text':'Once ther was a coder'}).replace('\\n','.').split('.')))"
   ]
  },
  {
   "cell_type": "code",
   "execution_count": null,
   "id": "ac3538af-04fe-4391-936b-7ab446307e61",
   "metadata": {},
   "outputs": [],
   "source": []
  }
 ],
 "metadata": {
  "kernelspec": {
   "display_name": "Python 3 (ipykernel)",
   "language": "python",
   "name": "python3"
  },
  "language_info": {
   "codemirror_mode": {
    "name": "ipython",
    "version": 3
   },
   "file_extension": ".py",
   "mimetype": "text/x-python",
   "name": "python",
   "nbconvert_exporter": "python",
   "pygments_lexer": "ipython3",
   "version": "3.10.12"
  }
 },
 "nbformat": 4,
 "nbformat_minor": 5
}
