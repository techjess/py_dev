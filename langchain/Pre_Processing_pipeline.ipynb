{
 "cells": [
  {
   "cell_type": "code",
   "execution_count": 2,
   "id": "003ac9c4-adc5-4313-9a88-02fbaa0df7be",
   "metadata": {},
   "outputs": [],
   "source": [
    "from langchain.prompts import PromptTemplate\n",
    "from langchain.llms import OpenAI\n",
    "from langchain.chains import LLMChain"
   ]
  },
  {
   "cell_type": "code",
   "execution_count": 7,
   "id": "d1aeb3f8-f92d-40f9-ac6c-ccb262f305d4",
   "metadata": {},
   "outputs": [
    {
     "data": {
      "text/plain": [
       "True"
      ]
     },
     "execution_count": 7,
     "metadata": {},
     "output_type": "execute_result"
    }
   ],
   "source": [
    "import os\n",
    "from dotenv import load_dotenv\n",
    "load_dotenv()\n"
   ]
  },
  {
   "cell_type": "code",
   "execution_count": 8,
   "id": "49b7ccd1-3048-47c7-8c39-a127afd59648",
   "metadata": {},
   "outputs": [],
   "source": [
    "MY_API_KEY = os.getenv('OPENAI_API_KEY')\n"
   ]
  },
  {
   "cell_type": "code",
   "execution_count": 9,
   "id": "e21aa92b-35d0-433f-acb4-18a00a1b7b2c",
   "metadata": {},
   "outputs": [],
   "source": [
    "llm = OpenAI(openai_api_key = MY_API_ "
   ]
  },
  {
   "cell_type": "code",
   "execution_count": 14,
   "id": "12fa7648-028c-4bbf-bf76-96d660678919",
   "metadata": {},
   "outputs": [],
   "source": [
    "prompt=PromptTemplate.from_template(\"Preprocess the given text by following the given steps in sequence. Follow only those steps that have a yes against them. Remove Number:{number},Remove punctuations : {punc} ,Word stemming : {stem}.Output just the preprocessed text. Text : {text}\")"
   ]
  },
  {
   "cell_type": "code",
   "execution_count": 16,
   "id": "1305303f-ccf4-4aeb-889b-7f884b8ae86d",
   "metadata": {},
   "outputs": [],
   "source": [
    "chain = LLMChain(llm=llm, prompt=prompt)"
   ]
  },
  {
   "cell_type": "code",
   "execution_count": 17,
   "id": "6df52e86-3f00-40b7-98ec-bf80ed2f36b7",
   "metadata": {},
   "outputs": [
    {
     "name": "stdout",
     "output_type": "stream",
     "text": [
      "\n",
      "\n",
      "Hey I got out of in Swimming\n"
     ]
    }
   ],
   "source": [
    "print(chain.run({'text':'Hey! I got 12 out of 20 in Swimming', 'number':'yes','punc':'yes','stem':'no'}))"
   ]
  },
  {
   "cell_type": "code",
   "execution_count": 18,
   "id": "13e4827f-f981-4799-8f9d-6b61585a9366",
   "metadata": {},
   "outputs": [
    {
     "name": "stdout",
     "output_type": "stream",
     "text": [
      "\n",
      "\n",
      "13b is my flat no. rohit will be joining us for the party\n"
     ]
    }
   ],
   "source": [
    "print(chain.run({'text':'22 13B is my flat no. Rohit will be joining us for the party', 'number':'yes', 'punc':'no', 'stem':'yes'}))"
   ]
  },
  {
   "cell_type": "code",
   "execution_count": null,
   "id": "c3b1a3c4-0df4-496e-a3a5-cb9f9cf815ea",
   "metadata": {},
   "outputs": [],
   "source": []
  }
 ],
 "metadata": {
  "kernelspec": {
   "display_name": "lang",
   "language": "python",
   "name": "lang"
  },
  "language_info": {
   "codemirror_mode": {
    "name": "ipython",
    "version": 3
   },
   "file_extension": ".py",
   "mimetype": "text/x-python",
   "name": "python",
   "nbconvert_exporter": "python",
   "pygments_lexer": "ipython3",
   "version": "3.10.12"
  }
 },
 "nbformat": 4,
 "nbformat_minor": 5
}
