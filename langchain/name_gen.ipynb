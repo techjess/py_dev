{
 "cells": [
  {
   "cell_type": "code",
   "execution_count": 1,
   "id": "8f1098e5-c275-4de8-847d-dc9c644c32c9",
   "metadata": {},
   "outputs": [],
   "source": [
    "from langchain.prompts import PromptTemplate\n",
    "from langchain.llms import OpenAI\n",
    "from langchain.chains import LLMChain"
   ]
  },
  {
   "cell_type": "code",
   "execution_count": 2,
   "id": "8f8c5b1f-c789-4538-b175-ded7f163c606",
   "metadata": {},
   "outputs": [],
   "source": [
    "import os\n",
    "from dotenv import load_dotenv"
   ]
  },
  {
   "cell_type": "code",
   "execution_count": 3,
   "id": "4157f3d8-8ae0-4e0b-bb89-9fd5914bd63a",
   "metadata": {},
   "outputs": [],
   "source": [
    "prompt=PromptTemplate.from_template(\"Give {number} names for a {domain} startup?\")\n"
   ]
  },
  {
   "cell_type": "code",
   "execution_count": 4,
   "id": "735bb744-e362-4d29-a91a-f4e97e186298",
   "metadata": {},
   "outputs": [
    {
     "data": {
      "text/plain": [
       "True"
      ]
     },
     "execution_count": 4,
     "metadata": {},
     "output_type": "execute_result"
    }
   ],
   "source": [
    "load_dotenv()"
   ]
  },
  {
   "cell_type": "code",
   "execution_count": 5,
   "id": "a59c06bb-30ea-46fb-810e-4eeee578d7c2",
   "metadata": {},
   "outputs": [],
   "source": [
    "MY_API_KEY = os.getenv('OPENAI_API_KEY')"
   ]
  },
  {
   "cell_type": "code",
   "execution_count": 6,
   "id": "63260b37-32e6-4711-b2d7-52f42ef1a5c9",
   "metadata": {},
   "outputs": [
    {
     "name": "stderr",
     "output_type": "stream",
     "text": [
      "/home/jgarcia/.local/lib/python3.10/site-packages/langchain_core/_api/deprecation.py:119: LangChainDeprecationWarning: The class `OpenAI` was deprecated in LangChain 0.0.10 and will be removed in 0.2.0. An updated version of the class exists in the langchain-openai package and should be used instead. To use it run `pip install -U langchain-openai` and import as `from langchain_openai import OpenAI`.\n",
      "  warn_deprecated(\n"
     ]
    }
   ],
   "source": [
    "llm = OpenAI(openai_api_key=MY_API_KEY)"
   ]
  },
  {
   "cell_type": "code",
   "execution_count": 7,
   "id": "3e170dcd-4598-4b8a-af85-9a6d3a815c90",
   "metadata": {},
   "outputs": [],
   "source": [
    "chain = LLMChain(llm=llm, prompt=prompt)"
   ]
  },
  {
   "cell_type": "code",
   "execution_count": 8,
   "id": "40d448d3-262b-4920-ab9b-0b01ed8f7d6c",
   "metadata": {},
   "outputs": [
    {
     "name": "stderr",
     "output_type": "stream",
     "text": [
      "/home/jgarcia/.local/lib/python3.10/site-packages/langchain_core/_api/deprecation.py:119: LangChainDeprecationWarning: The method `Chain.run` was deprecated in langchain 0.1.0 and will be removed in 0.2.0. Use invoke instead.\n",
      "  warn_deprecated(\n"
     ]
    },
    {
     "name": "stdout",
     "output_type": "stream",
     "text": [
      "\n",
      "\n",
      "1. Culinary Craze\n",
      "2. Kitchen Creations\n",
      "3. Taste Temptations\n",
      "4. Foodie Frenzy\n",
      "5. Spice & Spoon Co.\n"
     ]
    }
   ],
   "source": [
    "print(chain.run({'number':'5','domain':'cooking'}))"
   ]
  },
  {
   "cell_type": "code",
   "execution_count": 9,
   "id": "b5851b38-3268-4aa0-a50c-39eb0f56bd64",
   "metadata": {},
   "outputs": [
    {
     "name": "stdout",
     "output_type": "stream",
     "text": [
      "\n",
      "\n",
      "1. \"NeuroNexus\"\n",
      "2. \"Cognitive Code\"\n"
     ]
    }
   ],
   "source": [
    "print(chain.run({'number':'2','domain':'AI'}))"
   ]
  },
  {
   "cell_type": "code",
   "execution_count": null,
   "id": "7d3cc32a-7263-4762-9843-a996d33fa6d9",
   "metadata": {},
   "outputs": [],
   "source": []
  }
 ],
 "metadata": {
  "kernelspec": {
   "display_name": "lang",
   "language": "python",
   "name": "lang"
  },
  "language_info": {
   "codemirror_mode": {
    "name": "ipython",
    "version": 3
   },
   "file_extension": ".py",
   "mimetype": "text/x-python",
   "name": "python",
   "nbconvert_exporter": "python",
   "pygments_lexer": "ipython3",
   "version": "3.10.12"
  }
 },
 "nbformat": 4,
 "nbformat_minor": 5
}
